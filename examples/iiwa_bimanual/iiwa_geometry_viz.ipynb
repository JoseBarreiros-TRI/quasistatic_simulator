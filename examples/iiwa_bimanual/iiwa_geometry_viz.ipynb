{
 "cells": [
  {
   "cell_type": "code",
   "execution_count": null,
   "metadata": {
    "pycharm": {
     "name": "#%%\n"
    }
   },
   "outputs": [],
   "source": [
    "# Imports\n",
    "import numpy as np\n",
    "import pydot\n",
    "from IPython.display import display, HTML, SVG\n",
    "\n",
    "from pydrake.all import (\n",
    "    AddMultibodyPlantSceneGraph, DiagramBuilder, \n",
    "    FindResourceOrThrow, GenerateHtml, InverseDynamicsController, \n",
    "    MultibodyPlant, Parser, Simulator, Role)\n",
    "\n",
    "from pydrake.systems.meshcat_visualizer import MeshcatVisualizer, ConnectMeshcatVisualizer"
   ]
  },
  {
   "cell_type": "code",
   "execution_count": null,
   "metadata": {
    "pycharm": {
     "name": "#%%\n"
    }
   },
   "outputs": [],
   "source": [
    "builder = DiagramBuilder()\n",
    "\n",
    "plant, scene_graph = AddMultibodyPlantSceneGraph(builder, time_step=0.0)\n",
    "file = \"/home/amazon/PycharmProjects/quasistatic_simulator/models/iiwa7_sphere_collision.sdf\"\n",
    "Parser(plant, scene_graph).AddModelFromFile(file)\n",
    "plant.WeldFrames(plant.world_frame(), plant.GetFrameByName(\"iiwa_link_0\"))\n",
    "plant.Finalize()\n",
    "\n",
    "\n",
    "frames_to_draw = []\n",
    "for i in range(8):\n",
    "    name = f\"iiwa_link_{i}\"\n",
    "    body = plant.GetBodyByName(name)\n",
    "    frames_to_draw.append(plant.GetBodyFrameIdIfExists(body.index()))\n",
    "\n",
    "\n",
    "visualizer = ConnectMeshcatVisualizer(builder, scene_graph, frames_to_draw=frames_to_draw)\n",
    "diagram = builder.Build()\n",
    "visualizer.load()\n",
    "context = diagram.CreateDefaultContext()\n",
    "visualizer.DoPublish(visualizer.GetMyContextFromRoot(context), [])\n"
   ]
  },
  {
   "cell_type": "code",
   "execution_count": null,
   "metadata": {
    "pycharm": {
     "name": "#%%\n"
    }
   },
   "outputs": [],
   "source": []
  }
 ],
 "metadata": {
  "kernelspec": {
   "display_name": "Python 3",
   "language": "python",
   "name": "python3"
  },
  "language_info": {
   "codemirror_mode": {
    "name": "ipython",
    "version": 3
   },
   "file_extension": ".py",
   "mimetype": "text/x-python",
   "name": "python",
   "nbconvert_exporter": "python",
   "pygments_lexer": "ipython3",
   "version": "3.8.10"
  }
 },
 "nbformat": 4,
 "nbformat_minor": 5
}
